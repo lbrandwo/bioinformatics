{
 "cells": [
  {
   "cell_type": "markdown",
   "metadata": {},
   "source": [
    "# Identifying Potential DnaA Boxes in the Salmonella enterica Genome\n",
    "## Introduction\n",
    "\n",
    "The initiation of DNA replication is a critical process in the bacterial life cycle. In many bacteria, including Salmonella enterica, this process begins at a specific locus known as the origin of replication (oriC). A key feature of oriC is the presence of DnaA boxes, short tandem repeats that are recognized and bound by the DnaA protein, initiating DNA unwinding and replication.\n",
    "\n",
    "This notebook outlines a computational approach to identify potential DnaA boxes in the Salmonella enterica genome by analyzing nucleotide skew and searching for frequent patterns with mismatches and reverse complements. These bioinformatics techniques are fundamental in understanding genomic structures and functions.\n",
    "\n",
    "1. Essential functions for sequence analysis, including calculating Hamming distance, generating reverse complements, finding neighboring sequences, and computing genome skew(could also just import from motifs.py)"
   ]
  },
  {
   "cell_type": "code",
   "execution_count": 2,
   "metadata": {},
   "outputs": [],
   "source": [
    "def HammingDistance(p, q):\n",
    "    \"\"\"Calculate the Hamming distance between two strings.\"\"\"\n",
    "    return sum(ch1 != ch2 for ch1, ch2 in zip(p, q))\n",
    "\n",
    "def ReverseComplement(Pattern):\n",
    "    \"\"\"Find the reverse complement of a DNA string.\"\"\"\n",
    "    complement = {'A': 'T', 'T': 'A', 'C': 'G', 'G': 'C'}\n",
    "    return ''.join(complement[nuc] for nuc in reversed(Pattern))\n",
    "\n",
    "def Neighbors(pattern, d):\n",
    "    \"\"\"Generate all neighbors of a pattern within Hamming distance d.\"\"\"\n",
    "    if d == 0:\n",
    "        return {pattern}\n",
    "    if len(pattern) == 1:\n",
    "        return {'A', 'C', 'G', 'T'}\n",
    "    neighbors = set()\n",
    "    suffix_neighbors = Neighbors(pattern[1:], d)\n",
    "    for text in suffix_neighbors:\n",
    "        if HammingDistance(pattern[1:], text) < d:\n",
    "            for nucleotide in 'ACGT':\n",
    "                neighbors.add(nucleotide + text)\n",
    "        else:\n",
    "            neighbors.add(pattern[0] + text)\n",
    "    return neighbors\n",
    "\n",
    "def ComputeSkew(genome):\n",
    "    \"\"\"Compute the skew of the genome.\"\"\"\n",
    "    skew = [0]\n",
    "    for i in range(len(genome)):\n",
    "        if genome[i] == 'C':\n",
    "            skew.append(skew[-1] - 1)\n",
    "        elif genome[i] == 'G':\n",
    "            skew.append(skew[-1] + 1)\n",
    "        else:\n",
    "            skew.append(skew[-1])\n",
    "    return skew\n"
   ]
  },
  {
   "cell_type": "markdown",
   "metadata": {},
   "source": [
    "2. Finding Minimum Skew Positions: Locate regions in the genome where the skew reaches a minimum, indicating potential oriC locations.\n",
    "\n",
    "    This step is crucial as it guides us toward genomic regions with a high likelihood of containing the origin of replication, based on the imbalance between 'G' and 'C' nucleotides."
   ]
  },
  {
   "cell_type": "code",
   "execution_count": 3,
   "metadata": {},
   "outputs": [],
   "source": [
    "def MinSkewPositions(genome):\n",
    "    \"\"\"Find positions where the skew diagram reaches a minimum.\"\"\"\n",
    "    skew = ComputeSkew(genome)\n",
    "    min_skew = min(skew)\n",
    "    return [i for i, x in enumerate(skew) if x == min_skew]"
   ]
  },
  {
   "cell_type": "markdown",
   "metadata": {},
   "source": [
    "3. Identifying Frequent Words with Mismatches and Reverse Complements: With the regions of interest identified, we proceed to search for frequent k-mers within these regions that may serve as DnaA boxes. These motifs are essential for the binding of DnaA proteins, initiating the replication process. Allowing for mismatches in this search accounts for evolutionary variations in the DnaA box sequences.\n",
    "\n",
    "    This analysis considers both the exact motifs and those with minor variations, enhancing the robustness of our search. By also including reverse complements, we ensure no potential binding site is overlooked, given the bidirectional nature of DNA."
   ]
  },
  {
   "cell_type": "code",
   "execution_count": 4,
   "metadata": {},
   "outputs": [],
   "source": [
    "def FrequentWordsWithMismatchesAndReverse(genome, k, d):\n",
    "    \"\"\"Find the most frequent k-mers with mismatches and their reverse complements.\"\"\"\n",
    "    freqMap = {}\n",
    "    for i in range(len(genome) - k + 1):\n",
    "        pattern = genome[i:i+k]\n",
    "        neighborhood = Neighbors(pattern, d) | Neighbors(ReverseComplement(pattern), d)\n",
    "        for neighbor in neighborhood:\n",
    "            freqMap[neighbor] = freqMap.get(neighbor, 0) + 1\n",
    "            \n",
    "    maxCount = max(freqMap.values())\n",
    "    return [kmer for kmer, count in freqMap.items() if count == maxCount]"
   ]
  },
  {
   "cell_type": "markdown",
   "metadata": {},
   "source": [
    "4. Analysis: Our workflow culminates in the identification of potential DnaA boxes within the Salmonella enterica genome. These motifs, found in regions of minimum skew and characterized by their frequency despite mismatches, represent strong candidates for further experimental validation."
   ]
  },
  {
   "cell_type": "code",
   "execution_count": 6,
   "metadata": {},
   "outputs": [
    {
     "name": "stdout",
     "output_type": "stream",
     "text": [
      "Potential DnaA boxes: ['TGTGGATAA', 'TTATCCACA']\n"
     ]
    }
   ],
   "source": [
    "with open('../data/salmonella_enterica_whole_genome.txt', 'r') as file:\n",
    "    next(file)  # Skip the first line\n",
    "    genome = file.read().replace('\\n', '') \n",
    "    \n",
    "k = 9\n",
    "d = 1\n",
    "\n",
    "# Find the region(s) with minimum skew as potential oriC locations\n",
    "min_skew_positions = MinSkewPositions(genome)\n",
    "\n",
    "# Assuming the oriC is near a position of minimum skew, choose an arbitrary range around this position to search\n",
    "# Note: This range selection is arbitrary and may need adjustment\n",
    "search_range_start = min(min_skew_positions) - 500\n",
    "search_range_end = max(min_skew_positions) + 500\n",
    "search_text = genome[search_range_start:search_range_end]\n",
    "\n",
    "# Find frequent words with mismatches and reverse complements in the selected range\n",
    "frequent_patterns = FrequentWordsWithMismatchesAndReverse(search_text, k, d)\n",
    "\n",
    "print(\"Potential DnaA boxes:\", frequent_patterns)"
   ]
  },
  {
   "cell_type": "markdown",
   "metadata": {},
   "source": [
    "5. Conclusion: This computational approach to identifying DnaA boxes demonstrates the power of bioinformatics in guiding molecular biology research. By leveraging sequence analysis techniques, we can efficiently hypothesize the locations of critical genomic features, streamlining the path to experimental confirmation and enhancing our understanding of bacterial replication mechanisms."
   ]
  }
 ],
 "metadata": {
  "kernelspec": {
   "display_name": "Python 3",
   "language": "python",
   "name": "python3"
  },
  "language_info": {
   "codemirror_mode": {
    "name": "ipython",
    "version": 3
   },
   "file_extension": ".py",
   "mimetype": "text/x-python",
   "name": "python",
   "nbconvert_exporter": "python",
   "pygments_lexer": "ipython3",
   "version": "3.9.7"
  }
 },
 "nbformat": 4,
 "nbformat_minor": 2
}
